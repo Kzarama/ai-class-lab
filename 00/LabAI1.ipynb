{
  "nbformat": 4,
  "nbformat_minor": 0,
  "metadata": {
    "kernelspec": {
      "display_name": "Python 3",
      "language": "python",
      "name": "python3"
    },
    "language_info": {
      "codemirror_mode": {
        "name": "ipython",
        "version": 3
      },
      "file_extension": ".py",
      "mimetype": "text/x-python",
      "name": "python",
      "nbconvert_exporter": "python",
      "pygments_lexer": "ipython3",
      "version": "3.6.8"
    },
    "colab": {
      "name": "Copia de exercise.ipynb",
      "provenance": []
    }
  },
  "cells": [
    {
      "cell_type": "markdown",
      "metadata": {
        "id": "75P80QOIr65L",
        "colab_type": "text"
      },
      "source": [
        "# Python Exercises, practice  \n",
        "\n",
        "Perform the follwing exercises in groups of maximum 3 people, the result must be a public file in Google Colab.\n",
        "\n",
        "+ __Student 1:__\n",
        "+ __Student 2:__\n",
        "+ __Student 3:__"
      ]
    },
    {
      "cell_type": "markdown",
      "metadata": {
        "id": "3o7pMmC_r65O",
        "colab_type": "text"
      },
      "source": [
        "__1 exercise__\n",
        "\n",
        "print hello world"
      ]
    },
    {
      "cell_type": "code",
      "metadata": {
        "id": "P9KAEKiYsOtc",
        "colab_type": "code",
        "outputId": "b6445701-0aff-4795-8cf5-bbaa19f802d3",
        "colab": {
          "base_uri": "https://localhost:8080/",
          "height": 34
        }
      },
      "source": [
        "print('hello world')"
      ],
      "execution_count": 0,
      "outputs": [
        {
          "output_type": "stream",
          "text": [
            "hello world\n"
          ],
          "name": "stdout"
        }
      ]
    },
    {
      "cell_type": "markdown",
      "metadata": {
        "id": "mLIHvsH4r65Q",
        "colab_type": "text"
      },
      "source": [
        "__2 exercise__\n",
        "\n",
        "Let's create a variable with the name _variable_ and assign it the value \"hello world\"."
      ]
    },
    {
      "cell_type": "code",
      "metadata": {
        "id": "4nZ4nl-7sPI3",
        "colab_type": "code",
        "colab": {}
      },
      "source": [
        "variable = 'hello world'"
      ],
      "execution_count": 0,
      "outputs": []
    },
    {
      "cell_type": "markdown",
      "metadata": {
        "id": "ew99woEnr65R",
        "colab_type": "text"
      },
      "source": [
        "__3 exercise__\n",
        "\n",
        "Print the type of _variable_"
      ]
    },
    {
      "cell_type": "code",
      "metadata": {
        "id": "soykNVmNsPhh",
        "colab_type": "code",
        "outputId": "1254b31d-fd08-400c-ddb7-3cef0e2e5465",
        "colab": {
          "base_uri": "https://localhost:8080/",
          "height": 34
        }
      },
      "source": [
        "type(variable)"
      ],
      "execution_count": 0,
      "outputs": [
        {
          "output_type": "execute_result",
          "data": {
            "text/plain": [
              "str"
            ]
          },
          "metadata": {
            "tags": []
          },
          "execution_count": 3
        }
      ]
    },
    {
      "cell_type": "markdown",
      "metadata": {
        "id": "mOjLgeumr65S",
        "colab_type": "text"
      },
      "source": [
        "__4 exercise__\n",
        "\n",
        "Let's remove the word \" world\" from _variable_"
      ]
    },
    {
      "cell_type": "code",
      "metadata": {
        "id": "5I39EzIVsQBJ",
        "colab_type": "code",
        "outputId": "1c9b335f-b213-41d4-dc6d-c137e9fc120d",
        "colab": {
          "base_uri": "https://localhost:8080/",
          "height": 34
        }
      },
      "source": [
        "variable = variable[:5]\n",
        "variable"
      ],
      "execution_count": 0,
      "outputs": [
        {
          "output_type": "execute_result",
          "data": {
            "text/plain": [
              "'hello'"
            ]
          },
          "metadata": {
            "tags": []
          },
          "execution_count": 4
        }
      ]
    },
    {
      "cell_type": "markdown",
      "metadata": {
        "id": "-f7qZgUJr65T",
        "colab_type": "text"
      },
      "source": [
        "__5 exercise__\n",
        "\n",
        "Let's make a function which receives a list of number from 1 to 20 and prints only the number that are odd."
      ]
    },
    {
      "cell_type": "code",
      "metadata": {
        "id": "CHsnakqvsQhS",
        "colab_type": "code",
        "outputId": "8d2ad165-f98c-4d64-a514-26f4c3baf578",
        "colab": {
          "base_uri": "https://localhost:8080/",
          "height": 187
        }
      },
      "source": [
        "def function_odds(numbers):\n",
        "  for i in numbers:\n",
        "    if i % 2 == 1:\n",
        "      print(i)\n",
        "\n",
        "function_odds(list(range(20)))"
      ],
      "execution_count": 0,
      "outputs": [
        {
          "output_type": "stream",
          "text": [
            "1\n",
            "3\n",
            "5\n",
            "7\n",
            "9\n",
            "11\n",
            "13\n",
            "15\n",
            "17\n",
            "19\n"
          ],
          "name": "stdout"
        }
      ]
    },
    {
      "cell_type": "markdown",
      "metadata": {
        "id": "GvwzeLuRr65U",
        "colab_type": "text"
      },
      "source": [
        "__6 exercise__\n",
        "\n",
        "Let's make a method which receives two parameters:\n",
        "\n",
        "+ A list of integers \n",
        "+ An exponent number \n",
        "\n",
        "$b^{n} = b \\times \\dots \\times b$  \n",
        "\n",
        "The method allows us to calculate the exponentiation of each number in the list."
      ]
    },
    {
      "cell_type": "code",
      "metadata": {
        "id": "84x4wk5YsQ2M",
        "colab_type": "code",
        "outputId": "e9a9f9dd-934f-47d4-a865-4e61c0c41e15",
        "colab": {
          "base_uri": "https://localhost:8080/",
          "height": 34
        }
      },
      "source": [
        "def functioncita(list_numbers, exponent):\n",
        "  new_list = []\n",
        "  for nums in list_numbers:\n",
        "    new_list.append(nums**exponent)\n",
        "  return new_list\n",
        "\n",
        "print(functioncita([1,2], 2))"
      ],
      "execution_count": 0,
      "outputs": [
        {
          "output_type": "stream",
          "text": [
            "[1, 4]\n"
          ],
          "name": "stdout"
        }
      ]
    },
    {
      "cell_type": "markdown",
      "metadata": {
        "id": "3nP5wZUHr65V",
        "colab_type": "text"
      },
      "source": [
        "__7 exercise__\n",
        "\n",
        "The idea is to create a dictionary _diccionario_ with the next keys and values:\n",
        "\n",
        "_variableUno_: [1,2,3,4]\n",
        "\n",
        "_variableDos_: [\"1\",\"a\",\"?\"]\n"
      ]
    },
    {
      "cell_type": "code",
      "metadata": {
        "id": "kZcWhkBGsXVB",
        "colab_type": "code",
        "colab": {}
      },
      "source": [
        "diccionario = {'variableUno' : [1,2,3,4], 'variableDos' : [\"1\",\"a\",\"?\"]}"
      ],
      "execution_count": 0,
      "outputs": []
    },
    {
      "cell_type": "markdown",
      "metadata": {
        "id": "sacrf_0Br65W",
        "colab_type": "text"
      },
      "source": [
        "__8 exercise__\n",
        "\n",
        "Change the first letter of \"Spam\" to \"z\" "
      ]
    },
    {
      "cell_type": "code",
      "metadata": {
        "id": "YsQfx0uGsXsi",
        "colab_type": "code",
        "outputId": "5f06e656-6d83-442b-ebb2-8f3bf1a43f4f",
        "colab": {
          "base_uri": "https://localhost:8080/",
          "height": 34
        }
      },
      "source": [
        "word = \"Spam\"\n",
        "print(word.replace(\"S\", \"z\", 1))"
      ],
      "execution_count": 0,
      "outputs": [
        {
          "output_type": "stream",
          "text": [
            "zpam\n"
          ],
          "name": "stdout"
        }
      ]
    },
    {
      "cell_type": "markdown",
      "metadata": {
        "id": "AFnoX-Rzr65X",
        "colab_type": "text"
      },
      "source": [
        "__9 exercise__\n",
        "\n",
        "let's do a program which receives some parameters in order to calculate the perimeter of a rectangle.\n",
        "\n",
        "$p = 2x + 2y$"
      ]
    },
    {
      "cell_type": "code",
      "metadata": {
        "id": "AQ1MV7ArsYYu",
        "colab_type": "code",
        "outputId": "66eb6f29-a9b6-41cf-8b8c-e0511fb7cbc8",
        "colab": {
          "base_uri": "https://localhost:8080/",
          "height": 34
        }
      },
      "source": [
        "class programsito:\n",
        "  def method(x,y):\n",
        "    return (2*x)+(2*y)\n",
        "\n",
        "p = programsito\n",
        "print(p.method(2,3))"
      ],
      "execution_count": 0,
      "outputs": [
        {
          "output_type": "stream",
          "text": [
            "10\n"
          ],
          "name": "stdout"
        }
      ]
    },
    {
      "cell_type": "markdown",
      "metadata": {
        "id": "hskoU97Cr65Z",
        "colab_type": "text"
      },
      "source": [
        "__11 exercise__\n",
        "\n",
        "Make a program that prints the numbers from 1 to 100\n",
        "If the number is divisible by 3 then print \"whiz\"\n",
        "if the number is divisible by 5 then print \"bang\"\n",
        "If the number is divisible by both 3 and 5 then print \"whiz bang"
      ]
    },
    {
      "cell_type": "code",
      "metadata": {
        "id": "MDeRxcziIxpn",
        "colab_type": "code",
        "outputId": "8d64a5d4-0aa3-4099-fc89-c443fee11578",
        "colab": {
          "base_uri": "https://localhost:8080/",
          "height": 1000
        }
      },
      "source": [
        "class prog:\n",
        "  def meth():\n",
        "    for i in range(1, 100):\n",
        "      if i % 3 == 0 and i % 5 == 0:\n",
        "        print(\"whiz bang\")\n",
        "      elif i % 3 == 0:\n",
        "        print(\"whiz\")\n",
        "      elif i % 5 == 0:\n",
        "        print(\"bang\")\n",
        "      else:\n",
        "        print(i)\n",
        "\n",
        "prog.meth()"
      ],
      "execution_count": 0,
      "outputs": [
        {
          "output_type": "stream",
          "text": [
            "1\n",
            "2\n",
            "whiz\n",
            "4\n",
            "bang\n",
            "whiz\n",
            "7\n",
            "8\n",
            "whiz\n",
            "bang\n",
            "11\n",
            "whiz\n",
            "13\n",
            "14\n",
            "whiz bang\n",
            "16\n",
            "17\n",
            "whiz\n",
            "19\n",
            "bang\n",
            "whiz\n",
            "22\n",
            "23\n",
            "whiz\n",
            "bang\n",
            "26\n",
            "whiz\n",
            "28\n",
            "29\n",
            "whiz bang\n",
            "31\n",
            "32\n",
            "whiz\n",
            "34\n",
            "bang\n",
            "whiz\n",
            "37\n",
            "38\n",
            "whiz\n",
            "bang\n",
            "41\n",
            "whiz\n",
            "43\n",
            "44\n",
            "whiz bang\n",
            "46\n",
            "47\n",
            "whiz\n",
            "49\n",
            "bang\n",
            "whiz\n",
            "52\n",
            "53\n",
            "whiz\n",
            "bang\n",
            "56\n",
            "whiz\n",
            "58\n",
            "59\n",
            "whiz bang\n",
            "61\n",
            "62\n",
            "whiz\n",
            "64\n",
            "bang\n",
            "whiz\n",
            "67\n",
            "68\n",
            "whiz\n",
            "bang\n",
            "71\n",
            "whiz\n",
            "73\n",
            "74\n",
            "whiz bang\n",
            "76\n",
            "77\n",
            "whiz\n",
            "79\n",
            "bang\n",
            "whiz\n",
            "82\n",
            "83\n",
            "whiz\n",
            "bang\n",
            "86\n",
            "whiz\n",
            "88\n",
            "89\n",
            "whiz bang\n",
            "91\n",
            "92\n",
            "whiz\n",
            "94\n",
            "bang\n",
            "whiz\n",
            "97\n",
            "98\n",
            "whiz\n"
          ],
          "name": "stdout"
        }
      ]
    }
  ]
}