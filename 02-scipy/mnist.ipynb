{
 "cells": [
  {
   "cell_type": "markdown",
   "metadata": {},
   "source": [
    "# Excercise: MNIST Digits\n",
    "\n",
    "```\n",
    "Integrante 1: <>\n",
    "Integrante 2: <>\n",
    "Integrante 3: <>\n",
    "```\n",
    "\n",
    "[MNIST digits](http://yann.lecun.com/exdb/mnist/) is a dataset of written digits composed of 70000 black and white images. This dataset is a classic amongst people learning to apply machine learning models, specifically to pattern/image recognition. Of the 70K images, 60K are labeled examples and 10K are a validation set. These images are preprocessed so that they may be easily experimented with using machine learning.\n",
    "\n",
    "Lets load a downsized version of this dataset from the scikit-learn package."
   ]
  },
  {
   "cell_type": "code",
   "execution_count": null,
   "metadata": {},
   "outputs": [
    {
     "output_type": "error",
     "ename": "Error",
     "evalue": "Jupyter server crashed. Unable to connect. \r\nError code from jupyter: 1",
     "traceback": [
      "Error: Jupyter server crashed. Unable to connect.",
      "Error code from jupyter: 1",
      "at E.start (c:\\Users\\kz\\.vscode\\extensions\\ms-python.python-2020.2.64397\\out\\client\\extension.js:1:825587)"
     ]
    }
   ],
   "source": [
    "from sklearn.datasets import load_digits"
   ]
  },
  {
   "cell_type": "markdown",
   "metadata": {},
   "source": [
    "This imports a function that will be used to load the digits. This particular version has 1797 images and each one has been downscaled to 8x8, as opposed to the original size of 28x28."
   ]
  },
  {
   "cell_type": "code",
   "execution_count": null,
   "metadata": {},
   "outputs": [
    {
     "output_type": "error",
     "ename": "Error",
     "evalue": "Jupyter server crashed. Unable to connect. \r\nError code from jupyter: 1",
     "traceback": [
      "Error: Jupyter server crashed. Unable to connect.",
      "Error code from jupyter: 1",
      "at E.start (c:\\Users\\kz\\.vscode\\extensions\\ms-python.python-2020.2.64397\\out\\client\\extension.js:1:825587)"
     ]
    }
   ],
   "source": [
    "digits, target = load_digits(return_X_y=True)\n\ndef describe_ndarray(ndarr):\n  print(f'Type: {type(ndarr)}')\n  print(f'Dimensions: {ndarr.ndim}')\n  print(f'Size: {ndarr.size}')\n  print(f'Shape: {ndarr.shape}')\n  print(f'Type: {ndarr.dtype.name}')\n  print(f'Item size: {ndarr.itemsize}')\n  print()\n\ndescribe_ndarray(digits)\ndescribe_ndarray(target)"
   ]
  },
  {
   "cell_type": "markdown",
   "metadata": {},
   "source": [
    "Here we can see that we have two ndarrays, the first contains 1797 arrays of 64 (flattened 8x8 image) and the second has 1797 numbers, which correspond to the label of the digit. Lets try to visualize this."
   ]
  },
  {
   "cell_type": "code",
   "execution_count": null,
   "metadata": {},
   "outputs": [
    {
     "output_type": "error",
     "ename": "Error",
     "evalue": "Jupyter server crashed. Unable to connect. \r\nError code from jupyter: 1",
     "traceback": [
      "Error: Jupyter server crashed. Unable to connect.",
      "Error code from jupyter: 1",
      "at E.start (c:\\Users\\kz\\.vscode\\extensions\\ms-python.python-2020.2.64397\\out\\client\\extension.js:1:825587)"
     ]
    }
   ],
   "source": [
    "print(digits[:4,])\nprint(target[:4,])"
   ]
  },
  {
   "cell_type": "markdown",
   "metadata": {},
   "source": [
    "These are the first 3 digits, but it's difficult to see the image and verify if they match the labels, lets reshape the data and try again."
   ]
  },
  {
   "cell_type": "code",
   "execution_count": null,
   "metadata": {},
   "outputs": [
    {
     "output_type": "error",
     "ename": "Error",
     "evalue": "Jupyter server crashed. Unable to connect. \r\nError code from jupyter: 1",
     "traceback": [
      "Error: Jupyter server crashed. Unable to connect.",
      "Error code from jupyter: 1",
      "at E.start (c:\\Users\\kz\\.vscode\\extensions\\ms-python.python-2020.2.64397\\out\\client\\extension.js:1:825587)"
     ]
    }
   ],
   "source": [
    "digits_square = digits.reshape(-1, 8, 8)\n\nprint(digits_square[:4,])"
   ]
  },
  {
   "cell_type": "markdown",
   "metadata": {},
   "source": [
    "Now that we have squared the digits, it's easier to see if they're numbers, but we can do something better with matplotlib."
   ]
  },
  {
   "cell_type": "code",
   "execution_count": null,
   "metadata": {},
   "outputs": [
    {
     "output_type": "error",
     "ename": "Error",
     "evalue": "Jupyter server crashed. Unable to connect. \r\nError code from jupyter: 1",
     "traceback": [
      "Error: Jupyter server crashed. Unable to connect.",
      "Error code from jupyter: 1",
      "at E.start (c:\\Users\\kz\\.vscode\\extensions\\ms-python.python-2020.2.64397\\out\\client\\extension.js:1:825587)"
     ]
    }
   ],
   "source": [
    "import matplotlib.pyplot as plt"
   ]
  },
  {
   "cell_type": "code",
   "execution_count": null,
   "metadata": {},
   "outputs": [
    {
     "output_type": "error",
     "ename": "Error",
     "evalue": "Jupyter server crashed. Unable to connect. \r\nError code from jupyter: 1",
     "traceback": [
      "Error: Jupyter server crashed. Unable to connect.",
      "Error code from jupyter: 1",
      "at E.start (c:\\Users\\kz\\.vscode\\extensions\\ms-python.python-2020.2.64397\\out\\client\\extension.js:1:825587)"
     ]
    }
   ],
   "source": [
    "plt.gray()\n\nplt.figure()\n\nplt.subplot(2,2,1)\nplt.imshow(digits_square[0])\n\nplt.subplot(2,2,2)\nplt.imshow(digits_square[1])\n\nplt.subplot(2,2,3)\nplt.imshow(digits_square[2])\n\nplt.subplot(2,2,4)\nplt.imshow(digits_square[3])\n\nplt.show()\n"
   ]
  },
  {
   "cell_type": "markdown",
   "metadata": {},
   "source": [
    "Now we can easily see that these are in fact numbers and they correspond to the digits in `target`."
   ]
  },
  {
   "cell_type": "markdown",
   "metadata": {},
   "source": [
    "Now, imagine a new person writes a new digit that is not in the dataset and we want to automatically predict what this digit is by looking just at the image. For this purpose, we must develop an algorithm that can tell us this.\n",
    "\n",
    "Now, suppose we've written the algorithm, how do we test it without having the new images? Well, we can use the existing labels in order to know what the right answer is and then compare that to our algorithms answer. We will repeat the process for a random 30% of all digits and calculate the overall accuracy of our algorithm by: (correct answers)/(total).\n",
    "\n",
    "In short, you need to create a function that takes N number of digits and outputs an ndarray of (N,) with the predictions for each digit, all of these will be compared against the real values.\n",
    "\n",
    "In order to make this easier, we will only be comparing two classess of digits and classifing wether a digit is one of the two, you can choose which two digits to classify."
   ]
  },
  {
   "cell_type": "code",
   "execution_count": null,
   "metadata": {},
   "outputs": [
    {
     "output_type": "error",
     "ename": "Error",
     "evalue": "Jupyter server crashed. Unable to connect. \r\nError code from jupyter: 1",
     "traceback": [
      "Error: Jupyter server crashed. Unable to connect.",
      "Error code from jupyter: 1",
      "at E.start (c:\\Users\\kz\\.vscode\\extensions\\ms-python.python-2020.2.64397\\out\\client\\extension.js:1:825587)"
     ]
    }
   ],
   "source": [
    "import random\nimport numpy as np"
   ]
  },
  {
   "cell_type": "code",
   "execution_count": null,
   "metadata": {},
   "outputs": [
    {
     "output_type": "error",
     "ename": "Error",
     "evalue": "Jupyter server crashed. Unable to connect. \r\nError code from jupyter: 1",
     "traceback": [
      "Error: Jupyter server crashed. Unable to connect.",
      "Error code from jupyter: 1",
      "at E.start (c:\\Users\\kz\\.vscode\\extensions\\ms-python.python-2020.2.64397\\out\\client\\extension.js:1:825587)"
     ]
    }
   ],
   "source": [
    "def generate_random_indices(percentage, class1, class2):\n    indices_of_class1 = np.nonzero(target == class1)[0]\n    indices_of_class2 = np.nonzero(target == class2)[0]\n\n    min_length = min(len(indices_of_class1), len(indices_of_class2)) - 1\n\n    indices_of_class = np.concatenate((indices_of_class1[:min_length], indices_of_class2[:min_length]))\n\n    return random.sample(indices_of_class.tolist(), k=int(len(indices_of_class)*percentage))\n\ndef get_random_data(class1, class2):\n    indices = generate_random_indices(0.3, class1, class2)\n    return digits[indices,:], target[indices]\n\ndigits_sample, target_sample = get_random_data(0,1)\nprint(digits_sample)\nprint(target_sample)\nplt.imshow(digits_sample.reshape((-1, 8, 8))[0])"
   ]
  },
  {
   "cell_type": "code",
   "execution_count": null,
   "metadata": {},
   "outputs": [
    {
     "output_type": "error",
     "ename": "Error",
     "evalue": "Jupyter server crashed. Unable to connect. \r\nError code from jupyter: 1",
     "traceback": [
      "Error: Jupyter server crashed. Unable to connect.",
      "Error code from jupyter: 1",
      "at E.start (c:\\Users\\kz\\.vscode\\extensions\\ms-python.python-2020.2.64397\\out\\client\\extension.js:1:825587)"
     ]
    }
   ],
   "source": [
    "digits_sample.size"
   ]
  },
  {
   "cell_type": "markdown",
   "metadata": {},
   "source": [
    "Here we have applied some functions to extract a random 30% of the digits along with their target values, these digits will be the input to your algorithm, which you should complete below."
   ]
  },
  {
   "cell_type": "code",
   "execution_count": null,
   "metadata": {},
   "outputs": [
    {
     "output_type": "error",
     "ename": "Error",
     "evalue": "Jupyter server crashed. Unable to connect. \r\nError code from jupyter: 1",
     "traceback": [
      "Error: Jupyter server crashed. Unable to connect.",
      "Error code from jupyter: 1",
      "at E.start (c:\\Users\\kz\\.vscode\\extensions\\ms-python.python-2020.2.64397\\out\\client\\extension.js:1:825587)"
     ]
    }
   ],
   "source": [
    "def predict(digs): # TODO: Complete the function with an algorithm that must take digits and for each one return a multidimensional array containing the predicted labels\n    predictions_sample = []\n    \n    for x in range(0, len(digs)):\n        matrix = digs[x]\n        partA = matrix[27:29]\n        partB = matrix[35:37]\n        num = partA + partB\n        average_num = np.mean(num)\n        if average_num < 9:\n            predictions_sample.append(0)\n        else:\n            predictions_sample.append(1)\n    \n    return predictions_sample"
   ]
  },
  {
   "cell_type": "markdown",
   "metadata": {},
   "source": [
    "We will now define the function that will calculate our accuracy."
   ]
  },
  {
   "cell_type": "code",
   "execution_count": null,
   "metadata": {},
   "outputs": [
    {
     "output_type": "error",
     "ename": "Error",
     "evalue": "Jupyter server crashed. Unable to connect. \r\nError code from jupyter: 1",
     "traceback": [
      "Error: Jupyter server crashed. Unable to connect.",
      "Error code from jupyter: 1",
      "at E.start (c:\\Users\\kz\\.vscode\\extensions\\ms-python.python-2020.2.64397\\out\\client\\extension.js:1:825587)"
     ]
    }
   ],
   "source": [
    "def accuracy(predictions):\n    return np.count_nonzero(target_sample == predictions)/len(target_sample)"
   ]
  },
  {
   "cell_type": "markdown",
   "metadata": {},
   "source": [
    "This function compares which predictions are equal to the real value and divides by the total in the sample. The following code will test your accuracy."
   ]
  },
  {
   "cell_type": "code",
   "execution_count": null,
   "metadata": {},
   "outputs": [
    {
     "output_type": "error",
     "ename": "Error",
     "evalue": "Jupyter server crashed. Unable to connect. \r\nError code from jupyter: 1",
     "traceback": [
      "Error: Jupyter server crashed. Unable to connect.",
      "Error code from jupyter: 1",
      "at E.start (c:\\Users\\kz\\.vscode\\extensions\\ms-python.python-2020.2.64397\\out\\client\\extension.js:1:825587)"
     ]
    }
   ],
   "source": [
    "accuracy(predict(digits_sample))"
   ]
  }
 ],
 "metadata": {
  "file_extension": ".py",
  "kernelspec": {
   "display_name": "Python 3",
   "language": "python",
   "name": "python3"
  },
  "language_info": {
   "codemirror_mode": {
    "name": "ipython",
    "version": 3
   },
   "file_extension": ".py",
   "mimetype": "text/x-python",
   "name": "python",
   "nbconvert_exporter": "python",
   "pygments_lexer": "ipython3",
   "version": "3.7.4"
  },
  "mimetype": "text/x-python",
  "name": "python",
  "npconvert_exporter": "python",
  "pygments_lexer": "ipython3",
  "version": 3
 },
 "nbformat": 4,
 "nbformat_minor": 2
}