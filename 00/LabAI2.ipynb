{
  "nbformat": 4,
  "nbformat_minor": 0,
  "metadata": {
    "colab": {
      "name": "LabIA.ipynb",
      "provenance": []
    },
    "kernelspec": {
      "name": "python3",
      "display_name": "Python 3"
    }
  },
  "cells": [
    {
      "cell_type": "markdown",
      "metadata": {
        "id": "7QkAlhz4FsZr",
        "colab_type": "text"
      },
      "source": [
        "#Diccionarios"
      ]
    },
    {
      "cell_type": "code",
      "metadata": {
        "id": "J8vB7dgi7ahY",
        "colab_type": "code",
        "outputId": "9a9697ad-6ee0-4c92-d7c0-102061f76e95",
        "colab": {
          "base_uri": "https://localhost:8080/",
          "height": 34
        }
      },
      "source": [
        "adict = {}\n",
        "adict['foo'] = 'bar'\n",
        "#pairs\n",
        "for k, v in adict.items():\n",
        "  print('Key: ', k,'-','Values:', v)"
      ],
      "execution_count": 0,
      "outputs": [
        {
          "output_type": "stream",
          "text": [
            "Key:  foo - Values: bar\n"
          ],
          "name": "stdout"
        }
      ]
    },
    {
      "cell_type": "markdown",
      "metadata": {
        "id": "GgVfy6VVJNFz",
        "colab_type": "text"
      },
      "source": [
        "#High order funtions\n",
        "'filter' and 'map'"
      ]
    },
    {
      "cell_type": "code",
      "metadata": {
        "id": "cDPswCbnJLFh",
        "colab_type": "code",
        "outputId": "db73d68b-c977-4f4e-b736-9d4ee868e1f9",
        "colab": {
          "base_uri": "https://localhost:8080/",
          "height": 119
        }
      },
      "source": [
        "ns = [1,2,3,4,5]\n",
        "\n",
        "def square(n):\n",
        "  return n*n\n",
        "\n",
        "ns_squared = map(square, ns)\n",
        "\n",
        "for x in ns_squared:\n",
        "  print(x)"
      ],
      "execution_count": 0,
      "outputs": [
        {
          "output_type": "stream",
          "text": [
            "<map object at 0x7fed7ccd7390>\n",
            "1\n",
            "4\n",
            "9\n",
            "16\n",
            "25\n"
          ],
          "name": "stdout"
        }
      ]
    },
    {
      "cell_type": "code",
      "metadata": {
        "id": "BYmtanNOLcV6",
        "colab_type": "code",
        "outputId": "41f3692e-8088-44f6-ac69-5beed6ec04ed",
        "colab": {
          "base_uri": "https://localhost:8080/",
          "height": 34
        }
      },
      "source": [
        "ns = [1,2,3,4,5]\n",
        "hi_ns = map(lambda n: f\"hi{n}\", ns)\n",
        "print(list(hi_ns))"
      ],
      "execution_count": 0,
      "outputs": [
        {
          "output_type": "stream",
          "text": [
            "['hi1', 'hi2', 'hi3', 'hi4', 'hi5']\n"
          ],
          "name": "stdout"
        }
      ]
    },
    {
      "cell_type": "code",
      "metadata": {
        "id": "Y9nDaW_rLu8I",
        "colab_type": "code",
        "outputId": "2a07f1cb-e4a9-49fd-ce21-1ceee9d78cab",
        "colab": {
          "base_uri": "https://localhost:8080/",
          "height": 34
        }
      },
      "source": [
        "ns = [1,2,3,4,5]\n",
        "def is_even(n):\n",
        "  return n % 2 == 0\n",
        "evens = filter(is_even, ns)\n",
        "print(list(evens))"
      ],
      "execution_count": 0,
      "outputs": [
        {
          "output_type": "stream",
          "text": [
            "[2, 4]\n"
          ],
          "name": "stdout"
        }
      ]
    },
    {
      "cell_type": "code",
      "metadata": {
        "id": "U5b1jwBmME2b",
        "colab_type": "code",
        "outputId": "f4ae45b0-f6cc-4e8e-b4ca-e017dfb11bae",
        "colab": {
          "base_uri": "https://localhost:8080/",
          "height": 34
        }
      },
      "source": [
        "square_events = map(square, filter(is_even, ns))\n",
        "print(list(square_events))"
      ],
      "execution_count": 0,
      "outputs": [
        {
          "output_type": "stream",
          "text": [
            "[4, 16]\n"
          ],
          "name": "stdout"
        }
      ]
    },
    {
      "cell_type": "markdown",
      "metadata": {
        "id": "-opKoFONM2Cf",
        "colab_type": "text"
      },
      "source": [
        "#list comprehensions vs map"
      ]
    },
    {
      "cell_type": "code",
      "metadata": {
        "id": "rqFc6VlvM7aG",
        "colab_type": "code",
        "outputId": "5a78bfd8-5502-492a-97f7-17f387634640",
        "colab": {
          "base_uri": "https://localhost:8080/",
          "height": 34
        }
      },
      "source": [
        "square_ns = [ n ** 2 for n in ns ]\n",
        "print(square_ns)"
      ],
      "execution_count": 0,
      "outputs": [
        {
          "output_type": "stream",
          "text": [
            "[1, 4, 9, 16, 25]\n"
          ],
          "name": "stdout"
        }
      ]
    },
    {
      "cell_type": "code",
      "metadata": {
        "id": "yfyZrz71OV9F",
        "colab_type": "code",
        "outputId": "ece99a3f-d4b9-4222-8566-800ef2da8035",
        "colab": {
          "base_uri": "https://localhost:8080/",
          "height": 34
        }
      },
      "source": [
        "even_ns = [ x for x in ns if x % 2 == 0]\n",
        "print(even_ns)"
      ],
      "execution_count": 0,
      "outputs": [
        {
          "output_type": "stream",
          "text": [
            "[2, 4]\n"
          ],
          "name": "stdout"
        }
      ]
    }
  ]
}